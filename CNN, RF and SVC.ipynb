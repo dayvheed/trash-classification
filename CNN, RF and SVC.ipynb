{
 "cells": [
  {
   "cell_type": "code",
   "execution_count": 1,
   "metadata": {},
   "outputs": [],
   "source": [
    "import pandas as pd\n",
    "import numpy as np\n",
    "import matplotlib.pyplot as plt\n",
    "import glob\n",
    "import cv2"
   ]
  },
  {
   "cell_type": "code",
   "execution_count": 2,
   "metadata": {},
   "outputs": [],
   "source": [
    "from keras.models import Model, Sequential\n",
    "from keras.layers import Dense, Flatten, Conv2D, MaxPooling2D, Dropout\n",
    "from keras.layers.normalization import BatchNormalization\n",
    "import os\n",
    "import seaborn as sns"
   ]
  },
  {
   "cell_type": "code",
   "execution_count": 3,
   "metadata": {},
   "outputs": [
    {
     "data": {
      "text/plain": [
       "['C:\\\\Users\\\\DELL\\\\Downloads\\\\fiverr work\\\\archive (1)\\\\train\\\\cardboard',\n",
       " 'C:\\\\Users\\\\DELL\\\\Downloads\\\\fiverr work\\\\archive (1)\\\\train\\\\glass',\n",
       " 'C:\\\\Users\\\\DELL\\\\Downloads\\\\fiverr work\\\\archive (1)\\\\train\\\\metal',\n",
       " 'C:\\\\Users\\\\DELL\\\\Downloads\\\\fiverr work\\\\archive (1)\\\\train\\\\paper',\n",
       " 'C:\\\\Users\\\\DELL\\\\Downloads\\\\fiverr work\\\\archive (1)\\\\train\\\\plastic',\n",
       " 'C:\\\\Users\\\\DELL\\\\Downloads\\\\fiverr work\\\\archive (1)\\\\train\\\\trash']"
      ]
     },
     "execution_count": 3,
     "metadata": {},
     "output_type": "execute_result"
    }
   ],
   "source": [
    "glob.glob(r\"C:\\Users\\DELL\\Downloads\\fiverr work\\archive (1)\\train\\*\")"
   ]
  },
  {
   "cell_type": "code",
   "execution_count": 4,
   "metadata": {
    "scrolled": false
   },
   "outputs": [
    {
     "name": "stdout",
     "output_type": "stream",
     "text": [
      "C:\\Users\\DELL\\Downloads\\fiverr work\\archive (1)\\train\\cardboard\n",
      "================\n",
      "cardboard\n",
      "C:\\Users\\DELL\\Downloads\\fiverr work\\archive (1)\\train\\glass\n",
      "================\n",
      "glass\n",
      "C:\\Users\\DELL\\Downloads\\fiverr work\\archive (1)\\train\\metal\n",
      "================\n",
      "metal\n",
      "C:\\Users\\DELL\\Downloads\\fiverr work\\archive (1)\\train\\paper\n",
      "================\n",
      "paper\n",
      "C:\\Users\\DELL\\Downloads\\fiverr work\\archive (1)\\train\\plastic\n",
      "================\n",
      "plastic\n",
      "C:\\Users\\DELL\\Downloads\\fiverr work\\archive (1)\\train\\trash\n",
      "================\n",
      "trash\n"
     ]
    }
   ],
   "source": [
    "#define an image size of 128 by 128\n",
    "SIZE = 128\n",
    "\n",
    "train_images = []\n",
    "train_labels = []\n",
    "\n",
    "#populate the image and labels to an empty list\n",
    "for directory_path in glob.glob(r\"C:\\Users\\DELL\\Downloads\\fiverr work\\archive (1)\\train\\*\"):\n",
    "    label = directory_path.split('\\\\')[-1]\n",
    "    print(directory_path)\n",
    "    print('================')\n",
    "    print(label)\n",
    "\n",
    "    for img_path in glob.glob(os.path.join(directory_path, '*.jpg')):\n",
    "#         print(img_path)\n",
    "        img = cv2.imread(img_path, cv2.IMREAD_COLOR)\n",
    "        img = cv2.resize(img, (SIZE, SIZE))\n",
    "        train_images.append(img)\n",
    "        train_labels.append(label)\n",
    "\n",
    "#convert list to numpy arrays\n",
    "train_images = np.array(train_images)\n",
    "train_labels = np.array(train_labels)"
   ]
  },
  {
   "cell_type": "code",
   "execution_count": 5,
   "metadata": {},
   "outputs": [
    {
     "name": "stdout",
     "output_type": "stream",
     "text": [
      "C:\\Users\\DELL\\Downloads\\fiverr work\\archive (1)\\test\\cardboard\n",
      "================\n",
      "cardboard\n",
      "C:\\Users\\DELL\\Downloads\\fiverr work\\archive (1)\\test\\glass\n",
      "================\n",
      "glass\n",
      "C:\\Users\\DELL\\Downloads\\fiverr work\\archive (1)\\test\\metal\n",
      "================\n",
      "metal\n",
      "C:\\Users\\DELL\\Downloads\\fiverr work\\archive (1)\\test\\paper\n",
      "================\n",
      "paper\n",
      "C:\\Users\\DELL\\Downloads\\fiverr work\\archive (1)\\test\\plastic\n",
      "================\n",
      "plastic\n",
      "C:\\Users\\DELL\\Downloads\\fiverr work\\archive (1)\\test\\trash\n",
      "================\n",
      "trash\n"
     ]
    }
   ],
   "source": [
    "#perform the same procedure for the test dataset\n",
    "test_images = []\n",
    "test_labels = []\n",
    "\n",
    "for directory_path in glob.glob(r\"C:\\Users\\DELL\\Downloads\\fiverr work\\archive (1)\\test\\*\"):\n",
    "    label = directory_path.split('\\\\')[-1]\n",
    "    print(directory_path)\n",
    "    print('================')\n",
    "    print(label)\n",
    "\n",
    "    for img_path in glob.glob(os.path.join(directory_path, '*.jpg')):\n",
    "#         print(img_path)\n",
    "        img = cv2.imread(img_path, cv2.IMREAD_COLOR)\n",
    "        img = cv2.resize(img, (SIZE, SIZE))\n",
    "        test_images.append(img)\n",
    "        test_labels.append(label)\n",
    "\n",
    "test_images = np.array(test_images)\n",
    "test_labels = np.array(test_labels)"
   ]
  },
  {
   "cell_type": "code",
   "execution_count": 6,
   "metadata": {},
   "outputs": [],
   "source": [
    "from sklearn.preprocessing import LabelEncoder\n",
    "from keras.utils import to_categorical \n",
    "\n",
    "#convert to numbers\n",
    "encoder = LabelEncoder()\n",
    "encoder.fit(train_labels)\n",
    "train_labels_encoded = encoder.transform(train_labels)\n",
    "\n",
    "encoder.fit(test_labels)\n",
    "test_labels_encoded = encoder.transform(test_labels)"
   ]
  },
  {
   "cell_type": "code",
   "execution_count": 7,
   "metadata": {},
   "outputs": [],
   "source": [
    "#rename data for easy indentification\n",
    "X_train, y_train, X_test, y_test = train_images, train_labels_encoded, test_images, test_labels_encoded"
   ]
  },
  {
   "cell_type": "code",
   "execution_count": 8,
   "metadata": {},
   "outputs": [],
   "source": [
    "#normalize the image pixels\n",
    "X_train, X_test = X_train/255.0, X_test/255.0"
   ]
  },
  {
   "cell_type": "code",
   "execution_count": 9,
   "metadata": {},
   "outputs": [],
   "source": [
    "#one hot encode the labels\n",
    "train_labels_onehot = to_categorical(train_labels_encoded)\n",
    "\n",
    "test_labels_onehot = to_categorical(test_labels_encoded)"
   ]
  },
  {
   "cell_type": "code",
   "execution_count": 10,
   "metadata": {},
   "outputs": [],
   "source": [
    "#build the neural network for feature extractor\n",
    "feature_extractor = Sequential()\n",
    "\n",
    "feature_extractor.add(Conv2D(64, (3, 3), input_shape=(SIZE, SIZE, 3), activation='relu'))\n",
    "feature_extractor.add(BatchNormalization())\n",
    "feature_extractor.add(MaxPooling2D((2, 2)))\n",
    "\n",
    "feature_extractor.add(Conv2D(64, (3, 3), activation='relu'))\n",
    "feature_extractor.add(BatchNormalization())\n",
    "feature_extractor.add(MaxPooling2D((2, 2)))\n",
    "\n",
    "feature_extractor.add(Conv2D(32, (3, 3), activation='sigmoid'))\n",
    "feature_extractor.add(Dropout(0.2))\n",
    "\n",
    "feature_extractor.add(Conv2D(32, (3, 3), activation='sigmoid'))\n",
    "feature_extractor.add(BatchNormalization())\n",
    "feature_extractor.add(MaxPooling2D((2, 2)))\n",
    "\n",
    "feature_extractor.add(Flatten())"
   ]
  },
  {
   "cell_type": "code",
   "execution_count": 11,
   "metadata": {},
   "outputs": [],
   "source": [
    "\n",
    "fe_output = feature_extractor.output\n",
    "hidden_1 = Dense(128, activation='sigmoid', kernel_initializer='he_uniform')(fe_output)\n",
    "hidden_2 = Dropout(0.2)(hidden_1)\n",
    "output = Dense(6, activation='softmax')(hidden_2)"
   ]
  },
  {
   "cell_type": "code",
   "execution_count": 12,
   "metadata": {},
   "outputs": [
    {
     "name": "stdout",
     "output_type": "stream",
     "text": [
      "Model: \"model\"\n",
      "_________________________________________________________________\n",
      "Layer (type)                 Output Shape              Param #   \n",
      "=================================================================\n",
      "conv2d_input (InputLayer)    [(None, 128, 128, 3)]     0         \n",
      "_________________________________________________________________\n",
      "conv2d (Conv2D)              (None, 126, 126, 64)      1792      \n",
      "_________________________________________________________________\n",
      "batch_normalization (BatchNo (None, 126, 126, 64)      256       \n",
      "_________________________________________________________________\n",
      "max_pooling2d (MaxPooling2D) (None, 63, 63, 64)        0         \n",
      "_________________________________________________________________\n",
      "conv2d_1 (Conv2D)            (None, 61, 61, 64)        36928     \n",
      "_________________________________________________________________\n",
      "batch_normalization_1 (Batch (None, 61, 61, 64)        256       \n",
      "_________________________________________________________________\n",
      "max_pooling2d_1 (MaxPooling2 (None, 30, 30, 64)        0         \n",
      "_________________________________________________________________\n",
      "conv2d_2 (Conv2D)            (None, 28, 28, 32)        18464     \n",
      "_________________________________________________________________\n",
      "dropout (Dropout)            (None, 28, 28, 32)        0         \n",
      "_________________________________________________________________\n",
      "conv2d_3 (Conv2D)            (None, 26, 26, 32)        9248      \n",
      "_________________________________________________________________\n",
      "batch_normalization_2 (Batch (None, 26, 26, 32)        128       \n",
      "_________________________________________________________________\n",
      "max_pooling2d_2 (MaxPooling2 (None, 13, 13, 32)        0         \n",
      "_________________________________________________________________\n",
      "flatten (Flatten)            (None, 5408)              0         \n",
      "_________________________________________________________________\n",
      "dense (Dense)                (None, 128)               692352    \n",
      "_________________________________________________________________\n",
      "dropout_1 (Dropout)          (None, 128)               0         \n",
      "_________________________________________________________________\n",
      "dense_1 (Dense)              (None, 6)                 774       \n",
      "=================================================================\n",
      "Total params: 760,198\n",
      "Trainable params: 759,878\n",
      "Non-trainable params: 320\n",
      "_________________________________________________________________\n"
     ]
    }
   ],
   "source": [
    "#complie the network\n",
    "cnn_model = Model(inputs=feature_extractor.input, outputs=output)\n",
    "\n",
    "cnn_model.compile(optimizer='adam', loss='sparse_categorical_crossentropy', metrics=['accuracy'])\n",
    "\n",
    "cnn_model.summary()"
   ]
  },
  {
   "cell_type": "code",
   "execution_count": 13,
   "metadata": {
    "scrolled": true
   },
   "outputs": [
    {
     "name": "stdout",
     "output_type": "stream",
     "text": [
      "Epoch 1/20\n",
      "56/56 [==============================] - 134s 2s/step - loss: 1.8159 - accuracy: 0.3501 - val_loss: 1.8336 - val_accuracy: 0.1717\n",
      "Epoch 2/20\n",
      "56/56 [==============================] - 134s 2s/step - loss: 1.2117 - accuracy: 0.5191 - val_loss: 1.9786 - val_accuracy: 0.1717\n",
      "Epoch 3/20\n",
      "56/56 [==============================] - 135s 2s/step - loss: 1.0777 - accuracy: 0.5924 - val_loss: 2.2685 - val_accuracy: 0.1717\n",
      "Epoch 4/20\n",
      "56/56 [==============================] - 134s 2s/step - loss: 0.9779 - accuracy: 0.6416 - val_loss: 2.1594 - val_accuracy: 0.2065\n",
      "Epoch 5/20\n",
      "56/56 [==============================] - 134s 2s/step - loss: 0.9430 - accuracy: 0.6814 - val_loss: 2.4245 - val_accuracy: 0.1787\n",
      "Epoch 6/20\n",
      "56/56 [==============================] - 134s 2s/step - loss: 0.8549 - accuracy: 0.6968 - val_loss: 2.3294 - val_accuracy: 0.2877\n",
      "Epoch 7/20\n",
      "56/56 [==============================] - 133s 2s/step - loss: 0.8322 - accuracy: 0.6996 - val_loss: 2.0401 - val_accuracy: 0.3387\n",
      "Epoch 8/20\n",
      "56/56 [==============================] - 134s 2s/step - loss: 0.8021 - accuracy: 0.7102 - val_loss: 1.6280 - val_accuracy: 0.4084\n",
      "Epoch 9/20\n",
      "56/56 [==============================] - 136s 2s/step - loss: 0.7311 - accuracy: 0.7383 - val_loss: 1.4339 - val_accuracy: 0.4455\n",
      "Epoch 10/20\n",
      "56/56 [==============================] - 136s 2s/step - loss: 0.7169 - accuracy: 0.7444 - val_loss: 1.3489 - val_accuracy: 0.5128\n",
      "Epoch 11/20\n",
      "56/56 [==============================] - 134s 2s/step - loss: 0.7014 - accuracy: 0.7385 - val_loss: 1.5036 - val_accuracy: 0.5012\n",
      "Epoch 12/20\n",
      "56/56 [==============================] - 135s 2s/step - loss: 0.6288 - accuracy: 0.7733 - val_loss: 0.9379 - val_accuracy: 0.6798\n",
      "Epoch 13/20\n",
      "56/56 [==============================] - 134s 2s/step - loss: 0.5783 - accuracy: 0.7946 - val_loss: 1.2693 - val_accuracy: 0.5754\n",
      "Epoch 14/20\n",
      "56/56 [==============================] - 134s 2s/step - loss: 0.5610 - accuracy: 0.8019 - val_loss: 1.0223 - val_accuracy: 0.6032\n",
      "Epoch 15/20\n",
      "56/56 [==============================] - 136s 2s/step - loss: 0.5113 - accuracy: 0.8216 - val_loss: 1.2382 - val_accuracy: 0.6079\n",
      "Epoch 16/20\n",
      "56/56 [==============================] - 134s 2s/step - loss: 0.5290 - accuracy: 0.8239 - val_loss: 1.3960 - val_accuracy: 0.5220\n",
      "Epoch 17/20\n",
      "56/56 [==============================] - 135s 2s/step - loss: 0.4499 - accuracy: 0.8442 - val_loss: 1.9743 - val_accuracy: 0.4316\n",
      "Epoch 18/20\n",
      "56/56 [==============================] - 135s 2s/step - loss: 0.4512 - accuracy: 0.8438 - val_loss: 1.2832 - val_accuracy: 0.5800\n",
      "Epoch 19/20\n",
      "56/56 [==============================] - 135s 2s/step - loss: 0.4158 - accuracy: 0.8668 - val_loss: 1.1260 - val_accuracy: 0.6218\n",
      "Epoch 20/20\n",
      "56/56 [==============================] - 134s 2s/step - loss: 0.3475 - accuracy: 0.8910 - val_loss: 0.8570 - val_accuracy: 0.6845\n"
     ]
    }
   ],
   "source": [
    "#train the model\n",
    "history = cnn_model.fit(X_train, y_train, epochs=20, validation_data=(X_test, y_test))"
   ]
  },
  {
   "cell_type": "code",
   "execution_count": 14,
   "metadata": {},
   "outputs": [
    {
     "data": {
      "text/plain": [
       "Text(0.5, 1.0, 'Learning plot')"
      ]
     },
     "execution_count": 14,
     "metadata": {},
     "output_type": "execute_result"
    },
    {
     "data": {
      "image/png": "[encoded data removed]",
      "text/plain": [
       "<Figure size 432x288 with 1 Axes>"
      ]
     },
     "metadata": {
      "needs_background": "light"
     },
     "output_type": "display_data"
    }
   ],
   "source": [
    "#plot the training process\n",
    "plt.plot(history.history['loss'], label='Loss')\n",
    "plt.plot(history.history['val_loss'], label='Val loss')\n",
    "\n",
    "plt.xlabel('Epochs')\n",
    "plt.ylabel('Value')\n",
    "plt.legend()\n",
    "plt.title('Learning plot')"
   ]
  },
  {
   "cell_type": "code",
   "execution_count": 15,
   "metadata": {},
   "outputs": [],
   "source": [
    "#make the prediction\n",
    "nn_prediction = cnn_model.predict(X_test)"
   ]
  },
  {
   "cell_type": "code",
   "execution_count": 16,
   "metadata": {},
   "outputs": [],
   "source": [
    "nn_prediction = np.argmax(nn_prediction, axis=-1)\n",
    "nn_prediction = encoder.inverse_transform(nn_prediction)\n",
    "# nn_prediction"
   ]
  },
  {
   "cell_type": "code",
   "execution_count": 27,
   "metadata": {},
   "outputs": [
    {
     "data": {
      "text/plain": [
       "0.6844547563805105"
      ]
     },
     "execution_count": 27,
     "metadata": {},
     "output_type": "execute_result"
    }
   ],
   "source": [
    "from sklearn.metrics import accuracy_score\n",
    "\n",
    "accuracy_score(test_labels, nn_prediction)"
   ]
  },
  {
   "cell_type": "code",
   "execution_count": 17,
   "metadata": {},
   "outputs": [
    {
     "data": {
      "text/plain": [
       "<matplotlib.axes._subplots.AxesSubplot at 0x223fa679208>"
      ]
     },
     "execution_count": 17,
     "metadata": {},
     "output_type": "execute_result"
    },
    {
     "data": {
      "image/png": "[encoded data removed]",
      "text/plain": [
       "<Figure size 432x288 with 2 Axes>"
      ]
     },
     "metadata": {
      "needs_background": "light"
     },
     "output_type": "display_data"
    }
   ],
   "source": [
    "from sklearn.metrics import confusion_matrix\n",
    "\n",
    "#plot a confusion matrix\n",
    "cm = confusion_matrix(test_labels, nn_prediction)\n",
    "sns.heatmap(cm, annot=True)"
   ]
  },
  {
   "cell_type": "markdown",
   "metadata": {},
   "source": [
    "#Using a Random Forest Classifier on top of the Neural Network"
   ]
  },
  {
   "cell_type": "code",
   "execution_count": 18,
   "metadata": {},
   "outputs": [],
   "source": [
    "#use features for nn to rf\n",
    "#this is input to rf\n",
    "x_for_rf = feature_extractor.predict(X_train)"
   ]
  },
  {
   "cell_type": "code",
   "execution_count": 19,
   "metadata": {},
   "outputs": [],
   "source": [
    "from sklearn.ensemble import RandomForestClassifier\n",
    "rf_model = RandomForestClassifier(n_estimators=30, random_state=42)"
   ]
  },
  {
   "cell_type": "code",
   "execution_count": 20,
   "metadata": {},
   "outputs": [
    {
     "data": {
      "text/plain": [
       "RandomForestClassifier(n_estimators=30, random_state=42)"
      ]
     },
     "execution_count": 20,
     "metadata": {},
     "output_type": "execute_result"
    }
   ],
   "source": [
    "#train the model\n",
    "rf_model.fit(x_for_rf, y_train)"
   ]
  },
  {
   "cell_type": "code",
   "execution_count": 21,
   "metadata": {},
   "outputs": [],
   "source": [
    "#send test data through same feature extractor process\n",
    "X_test_features = feature_extractor.predict(X_test)"
   ]
  },
  {
   "cell_type": "code",
   "execution_count": 22,
   "metadata": {},
   "outputs": [],
   "source": [
    "#make a prediction\n",
    "rf_prediction = rf_model.predict(X_test_features)"
   ]
  },
  {
   "cell_type": "code",
   "execution_count": 23,
   "metadata": {},
   "outputs": [],
   "source": [
    "rf_prediction = encoder.inverse_transform(rf_prediction)"
   ]
  },
  {
   "cell_type": "code",
   "execution_count": 24,
   "metadata": {},
   "outputs": [
    {
     "data": {
      "text/plain": [
       "0.7099767981438515"
      ]
     },
     "execution_count": 24,
     "metadata": {},
     "output_type": "execute_result"
    }
   ],
   "source": [
    "from sklearn.metrics import accuracy_score\n",
    "\n",
    "accuracy_score(test_labels, rf_prediction)"
   ]
  },
  {
   "cell_type": "code",
   "execution_count": 25,
   "metadata": {
    "scrolled": true
   },
   "outputs": [
    {
     "data": {
      "text/plain": [
       "<matplotlib.axes._subplots.AxesSubplot at 0x223fabc2320>"
      ]
     },
     "execution_count": 25,
     "metadata": {},
     "output_type": "execute_result"
    },
    {
     "data": {
      "image/png": "[encoded data removed]",
      "text/plain": [
       "<Figure size 432x288 with 2 Axes>"
      ]
     },
     "metadata": {
      "needs_background": "light"
     },
     "output_type": "display_data"
    }
   ],
   "source": [
    "cm = confusion_matrix(test_labels, rf_prediction)\n",
    "sns.heatmap(cm, annot=True)"
   ]
  },
  {
   "cell_type": "code",
   "execution_count": 35,
   "metadata": {
    "scrolled": true
   },
   "outputs": [
    {
     "name": "stdout",
     "output_type": "stream",
     "text": [
      "[[55  3  4  5  3  0]\n",
      " [ 1 59  5  2 14  1]\n",
      " [ 1  6 48  8  4  1]\n",
      " [ 0  3  3 94  7  1]\n",
      " [ 3  6  4  5 56  0]\n",
      " [ 1  6  2  1  4 15]]\n",
      "0.7587006960556845\n"
     ]
    }
   ],
   "source": [
    "from sklearn.svm import SVC\n",
    "data_for_csv = feature_extractor.predict(X_train)\n",
    "\n",
    "svc_model = SVC()\n",
    "svc_model.fit(data_for_csv, y_train)\n",
    "\n",
    "svc_prediction = feature_extractor.predict(X_test)\n",
    "svc_prediction = svc_model.predict(svc_prediction)\n",
    "\n",
    "svc_prediction = encoder.inverse_transform(svc_prediction)\n",
    "print(confusion_matrix(test_labels, svc_prediction))\n",
    "\n",
    "print(accuracy_score(test_labels, svc_prediction))\n",
    "# svc_prediction"
   ]
  },
  {
   "cell_type": "code",
   "execution_count": 36,
   "metadata": {},
   "outputs": [
    {
     "data": {
      "text/plain": [
       "<matplotlib.axes._subplots.AxesSubplot at 0x223ec7ebe48>"
      ]
     },
     "execution_count": 36,
     "metadata": {},
     "output_type": "execute_result"
    },
    {
     "data": {
      "image/png": "[encoded data removed]",
      "text/plain": [
       "<Figure size 432x288 with 2 Axes>"
      ]
     },
     "metadata": {
      "needs_background": "light"
     },
     "output_type": "display_data"
    }
   ],
   "source": [
    "sns.heatmap(confusion_matrix(test_labels, svc_prediction), annot=True)"
   ]
  },
  {
   "cell_type": "code",
   "execution_count": 48,
   "metadata": {
    "scrolled": true
   },
   "outputs": [
    {
     "name": "stdout",
     "output_type": "stream",
     "text": [
      "The actual image is  plastic\n",
      "The RF predicted image is  ['paper']\n",
      "The NN predicted image is  cardboard\n",
      "The SVC predicted image is  ['plastic']\n"
     ]
    },
    {
     "data": {
      "image/png": "[encoded data removed]",
      "text/plain": [
       "<Figure size 432x288 with 1 Axes>"
      ]
     },
     "metadata": {
      "needs_background": "light"
     },
     "output_type": "display_data"
    }
   ],
   "source": [
    "#test the prediction of both approaches\n",
    "n = np.random.choice(list(range(len(X_test))))\n",
    "img = X_test[n]\n",
    "plt.imshow(img)\n",
    "\n",
    "input_img = np.expand_dims(img, axis=0)\n",
    "input_img_features = feature_extractor.predict(input_img)\n",
    "pred_rf = rf_model.predict(input_img_features)\n",
    "pred_nn = cnn_model.predict(input_img)\n",
    "pred_nn = np.argmax(pred_nn, axis=0)\n",
    "pred_svc = svc_model.predict(input_img_features)\n",
    "\n",
    "# print(pred)\n",
    "pred_rf = encoder.inverse_transform(pred_rf)\n",
    "pred_nn = encoder.inverse_transform(pred_nn)\n",
    "pred_svc = encoder.inverse_transform(pred_svc)\n",
    "\n",
    "\n",
    "print('The actual image is ', test_labels[n])\n",
    "print('The RF predicted image is ', pred_rf)\n",
    "print('The NN predicted image is ', pred_nn[0])\n",
    "print('The SVC predicted image is ', pred_svc)"
   ]
  },
  {
   "cell_type": "code",
   "execution_count": null,
   "metadata": {},
   "outputs": [],
   "source": []
  }
 ],
 "metadata": {
  "kernelspec": {
   "display_name": "Python 3",
   "language": "python",
   "name": "python3"
  },
  "language_info": {
   "codemirror_mode": {
    "name": "ipython",
    "version": 3
   },
   "file_extension": ".py",
   "mimetype": "text/x-python",
   "name": "python",
   "nbconvert_exporter": "python",
   "pygments_lexer": "ipython3",
   "version": "3.7.3"
  }
 },
 "nbformat": 4,
 "nbformat_minor": 2
}
